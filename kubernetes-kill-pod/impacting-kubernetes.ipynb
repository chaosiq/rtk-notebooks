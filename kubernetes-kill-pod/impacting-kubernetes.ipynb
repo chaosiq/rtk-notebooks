{
 "metadata": {
  "language_info": {
   "codemirror_mode": {
    "name": "ipython",
    "version": 3
   },
   "file_extension": ".py",
   "mimetype": "text/x-python",
   "name": "python",
   "nbconvert_exporter": "python",
   "pygments_lexer": "ipython3",
   "version": "3.8.5-final"
  },
  "orig_nbformat": 2,
  "kernelspec": {
   "name": "Python 3.8.5 64-bit ('vs-code')",
   "display_name": "Python 3.8.5 64-bit ('vs-code')",
   "metadata": {
    "interpreter": {
     "hash": "3df7bc5896d8a0e97710b6c2b6ccf7d7f6526e15263dc34f7eae4066c2838f1c"
    }
   }
  }
 },
 "nbformat": 4,
 "nbformat_minor": 2,
 "cells": [
  {
   "source": [
    "# Mission: Kill a Kubernetes POD with Reliably and the Chaos Toolkit.\n",
    "\n",
    "You can learn from experiencing unexpected events in your operationl Environment. \n",
    "\n",
    "In this mission  you are going to kill a POD in a Kubernetes environment (the unexpected event) and see if there are any discernable impacts to your environment.\n",
    "\n",
    "\n",
    "\n",
    "## Using a Kubernetes Cluster\n",
    "\n",
    "To use Kubernetes you will need some tools installed in your environment. To use Kubernetes you will need to install ```kubectl``` this is detailed in the [Kubernetes Documentation](https://kubernetes.io/docs/tasks/tools/). \n",
    "\n",
    "You will also need a Cluster where you can practice your reliability exercises, ideally, you will already have a Cluster running a system that is already well known to you. If you already have a cluster you can jump directly to the [Disrupting Kubernetes PODs](#disrupting-kubernetes-pods-with-the-chaos-toolkit) section.\n",
    "\n",
    "If you don't have a cluster that you can use the following section will go through the steps to set up a Cluster with [Minkube](https://kubernetes.io/docs/setup/learning-environment/minikube/).\n",
    "\n",
    "## Setup a Cluster with Minikube\n",
    "\n",
    "Minikube is a tool that lets you run Kubernetes locally. Minikube runs a single-node Kubernetes cluster on your personal computer (including Windows, macOS and Linux PCs)to get started you will need to [install minikube](https://kubernetes.io/docs/tasks/tools/install-minikube/).\n",
    "\n",
    "Once minikube is installed you can run:\n",
    "\n",
    "```\n",
    "minikube start\n",
    "```\n",
    "You should see output similar to:\n",
    "\n",
    "![Minikube Start Screenshot](minikube_start_screenshot.png)\n",
    "\n",
    "## Create a System under Test\n",
    "\n",
    "you will need a system to test with an exposed endpoint that you can use to determine the availability of your system. As an example you could a simple Nginx hello world web server:\n",
    "\n",
    "```\n",
    "apiVersion: apps/v1\n",
    "kind: Deployment\n",
    "metadata:\n",
    "  name: nginx\n",
    "  labels:\n",
    "    app: nginx\n",
    "spec:\n",
    "  selector:\n",
    "    matchLabels:\n",
    "      app: nginx\n",
    "  replicas: 1\n",
    "  template:\n",
    "    metadata:\n",
    "      labels:\n",
    "        app: nginx\n",
    "    spec:\n",
    "      containers:\n",
    "      - name: nginx\n",
    "        image: nginxdemos/hello\n",
    "        ports:\n",
    "        - containerPort: 80\n",
    "```\n",
    "\n",
    "This can be deployed to your cluster with:\n",
    "\n",
    "```\n",
    "kubectl apply -f nginx.yaml --namespace=chaos-testing\n",
    "deployment.apps/nginx created\n",
    "```\n",
    "\n",
    "To connect to the webserver you will need to expose a service:\n",
    "\n",
    "```\n",
    "kubectl expose deployment nginx --type=\"LoadBalancer\"\n",
    "```\n",
    "\n",
    "Then you can connect to the system using your default browser using minkube:\n",
    "\n",
    "```\n",
    "minikube service nginx\n",
    "```\n",
    "![Minikube Service](minikube-service-screenshot.png)\n",
    "\n",
    "Your default browser should open showing:\n",
    "\n",
    "![Nginx Screenshot](nginx-hello-screenshot.png)\n",
    "\n",
    "\n",
    "\n",
    "\n",
    "\n"
   ],
   "cell_type": "markdown",
   "metadata": {}
  },
  {
   "source": [
    "## Disrupting Kubernetes PODs with the Chaos Toolkit\n",
    "\n",
    "Now you have a cluster up and running you can disrupt the cluster by performing an action like killing a POD, using a tool such as the Chaos Toolkit. You are now going to install the Chaos Toolkit in this notebook and then use it to impact your cluster."
   ],
   "cell_type": "markdown",
   "metadata": {
    "tags": []
   }
  },
  {
   "cell_type": "code",
   "execution_count": 5,
   "metadata": {
    "tags": []
   },
   "outputs": [
    {
     "output_type": "stream",
     "name": "stdout",
     "text": "Collecting chaostoolkit\n  Downloading chaostoolkit-1.7.0-py3-none-any.whl (18 kB)\nCollecting chaostoolkit-lib~=1.13\n  Using cached chaostoolkit_lib-1.15.0-py3-none-any.whl (56 kB)\nRequirement already satisfied: logzero&gt;=1.5.0 in /Users/grant/.venvs/vs-code/lib/python3.8/site-packages (from chaostoolkit) (1.5.0)\nRequirement already satisfied: click&gt;=7.0 in /Users/grant/.venvs/vs-code/lib/python3.8/site-packages (from chaostoolkit) (7.1.2)\nRequirement already satisfied: requests&gt;=2.21 in /Users/grant/.venvs/vs-code/lib/python3.8/site-packages (from chaostoolkit) (2.24.0)\nRequirement already satisfied: python-json-logger&gt;=0.1.11 in /Users/grant/.venvs/vs-code/lib/python3.8/site-packages (from chaostoolkit) (0.1.11)\nRequirement already satisfied: importlib-metadata&gt;=1.2.0 in /Users/grant/.venvs/vs-code/lib/python3.8/site-packages (from chaostoolkit) (1.7.0)\nRequirement already satisfied: PyYAML&gt;=5.1.2 in /Users/grant/.venvs/vs-code/lib/python3.8/site-packages (from chaostoolkit) (5.3.1)\nRequirement already satisfied: click-plugins&gt;=1.0.4 in /Users/grant/.venvs/vs-code/lib/python3.8/site-packages (from chaostoolkit) (1.1.1)\nRequirement already satisfied: idna&lt;3,&gt;=2.5 in /Users/grant/.venvs/vs-code/lib/python3.8/site-packages (from requests&gt;=2.21-&gt;chaostoolkit) (2.10)\nRequirement already satisfied: urllib3!=1.25.0,!=1.25.1,&lt;1.26,&gt;=1.21.1 in /Users/grant/.venvs/vs-code/lib/python3.8/site-packages (from requests&gt;=2.21-&gt;chaostoolkit) (1.25.10)\nRequirement already satisfied: certifi&gt;=2017.4.17 in /Users/grant/.venvs/vs-code/lib/python3.8/site-packages (from requests&gt;=2.21-&gt;chaostoolkit) (2020.6.20)\nRequirement already satisfied: chardet&lt;4,&gt;=3.0.2 in /Users/grant/.venvs/vs-code/lib/python3.8/site-packages (from requests&gt;=2.21-&gt;chaostoolkit) (3.0.4)\nRequirement already satisfied: zipp&gt;=0.5 in /Users/grant/.venvs/vs-code/lib/python3.8/site-packages (from importlib-metadata&gt;=1.2.0-&gt;chaostoolkit) (3.1.0)\nInstalling collected packages: chaostoolkit-lib, chaostoolkit\n  Attempting uninstall: chaostoolkit-lib\n    Found existing installation: chaostoolkit-lib 1.12.0\n    Uninstalling chaostoolkit-lib-1.12.0:\n      Successfully uninstalled chaostoolkit-lib-1.12.0\nSuccessfully installed chaostoolkit-1.7.0 chaostoolkit-lib-1.15.0\n\u001b[33mWARNING: You are using pip version 20.2.2; however, version 20.2.3 is available.\nYou should consider upgrading via the &#39;/Users/grant/.venvs/vs-code/bin/python -m pip install --upgrade pip&#39; command.\u001b[0m\nNote: you may need to restart the kernel to use updated packages.\n"
    }
   ],
   "source": [
    "%pip install chaostoolkit"
   ]
  },
  {
   "source": [
    "You can verify the command by running:"
   ],
   "cell_type": "markdown",
   "metadata": {}
  },
  {
   "cell_type": "code",
   "execution_count": 6,
   "metadata": {
    "tags": []
   },
   "outputs": [
    {
     "output_type": "stream",
     "name": "stdout",
     "text": "chaos, version 1.7.0\n"
    }
   ],
   "source": [
    "!chaos --version"
   ]
  },
  {
   "source": [
    "As you are using kubernetes as a target system you are now going to install the Chaos Toolkit [kubernetes extension](https://docs.chaostoolkit.org/drivers/kubernetes/):"
   ],
   "cell_type": "markdown",
   "metadata": {}
  },
  {
   "cell_type": "code",
   "execution_count": 8,
   "metadata": {
    "tags": []
   },
   "outputs": [
    {
     "output_type": "stream",
     "name": "stdout",
     "text": "Collecting chaostoolkit-kubernetes\n  Using cached chaostoolkit_kubernetes-0.23.0-py3-none-any.whl (31 kB)\nRequirement already satisfied: pyyaml in /Users/grant/.venvs/vs-code/lib/python3.8/site-packages (from chaostoolkit-kubernetes) (5.3.1)\nRequirement already satisfied: logzero in /Users/grant/.venvs/vs-code/lib/python3.8/site-packages (from chaostoolkit-kubernetes) (1.5.0)\nRequirement already satisfied: kubernetes in /Users/grant/.venvs/vs-code/lib/python3.8/site-packages (from chaostoolkit-kubernetes) (11.0.0)\nRequirement already satisfied: chaostoolkit-lib&gt;=0.20.0 in /Users/grant/.venvs/vs-code/lib/python3.8/site-packages (from chaostoolkit-kubernetes) (1.15.0)\nRequirement already satisfied: dateparser in /Users/grant/.venvs/vs-code/lib/python3.8/site-packages (from chaostoolkit-kubernetes) (0.7.6)\nRequirement already satisfied: setuptools&gt;=21.0.0 in /Users/grant/.venvs/vs-code/lib/python3.8/site-packages (from kubernetes-&gt;chaostoolkit-kubernetes) (49.6.0)\nRequirement already satisfied: requests in /Users/grant/.venvs/vs-code/lib/python3.8/site-packages (from kubernetes-&gt;chaostoolkit-kubernetes) (2.24.0)\nRequirement already satisfied: certifi&gt;=14.05.14 in /Users/grant/.venvs/vs-code/lib/python3.8/site-packages (from kubernetes-&gt;chaostoolkit-kubernetes) (2020.6.20)\nRequirement already satisfied: python-dateutil&gt;=2.5.3 in /Users/grant/.venvs/vs-code/lib/python3.8/site-packages (from kubernetes-&gt;chaostoolkit-kubernetes) (2.8.1)\nRequirement already satisfied: websocket-client!=0.40.0,!=0.41.*,!=0.42.*,&gt;=0.32.0 in /Users/grant/.venvs/vs-code/lib/python3.8/site-packages (from kubernetes-&gt;chaostoolkit-kubernetes) (0.57.0)\nRequirement already satisfied: requests-oauthlib in /Users/grant/.venvs/vs-code/lib/python3.8/site-packages (from kubernetes-&gt;chaostoolkit-kubernetes) (1.3.0)\nRequirement already satisfied: google-auth&gt;=1.0.1 in /Users/grant/.venvs/vs-code/lib/python3.8/site-packages (from kubernetes-&gt;chaostoolkit-kubernetes) (1.22.0)\nRequirement already satisfied: urllib3&gt;=1.24.2 in /Users/grant/.venvs/vs-code/lib/python3.8/site-packages (from kubernetes-&gt;chaostoolkit-kubernetes) (1.25.10)\nRequirement already satisfied: six&gt;=1.9.0 in /Users/grant/.venvs/vs-code/lib/python3.8/site-packages (from kubernetes-&gt;chaostoolkit-kubernetes) (1.15.0)\nRequirement already satisfied: tzlocal in /Users/grant/.venvs/vs-code/lib/python3.8/site-packages (from dateparser-&gt;chaostoolkit-kubernetes) (2.1)\nRequirement already satisfied: pytz in /Users/grant/.venvs/vs-code/lib/python3.8/site-packages (from dateparser-&gt;chaostoolkit-kubernetes) (2020.1)\nRequirement already satisfied: regex!=2019.02.19 in /Users/grant/.venvs/vs-code/lib/python3.8/site-packages (from dateparser-&gt;chaostoolkit-kubernetes) (2020.9.27)\nRequirement already satisfied: chardet&lt;4,&gt;=3.0.2 in /Users/grant/.venvs/vs-code/lib/python3.8/site-packages (from requests-&gt;kubernetes-&gt;chaostoolkit-kubernetes) (3.0.4)\nRequirement already satisfied: idna&lt;3,&gt;=2.5 in /Users/grant/.venvs/vs-code/lib/python3.8/site-packages (from requests-&gt;kubernetes-&gt;chaostoolkit-kubernetes) (2.10)\nRequirement already satisfied: oauthlib&gt;=3.0.0 in /Users/grant/.venvs/vs-code/lib/python3.8/site-packages (from requests-oauthlib-&gt;kubernetes-&gt;chaostoolkit-kubernetes) (3.1.0)\nRequirement already satisfied: aiohttp&lt;4.0.0dev,&gt;=3.6.2; python_version &gt;= &quot;3.6&quot; in /Users/grant/.venvs/vs-code/lib/python3.8/site-packages (from google-auth&gt;=1.0.1-&gt;kubernetes-&gt;chaostoolkit-kubernetes) (3.6.2)\nRequirement already satisfied: pyasn1-modules&gt;=0.2.1 in /Users/grant/.venvs/vs-code/lib/python3.8/site-packages (from google-auth&gt;=1.0.1-&gt;kubernetes-&gt;chaostoolkit-kubernetes) (0.2.8)\nRequirement already satisfied: rsa&lt;5,&gt;=3.1.4; python_version &gt;= &quot;3.5&quot; in /Users/grant/.venvs/vs-code/lib/python3.8/site-packages (from google-auth&gt;=1.0.1-&gt;kubernetes-&gt;chaostoolkit-kubernetes) (4.6)\nRequirement already satisfied: cachetools&lt;5.0,&gt;=2.0.0 in /Users/grant/.venvs/vs-code/lib/python3.8/site-packages (from google-auth&gt;=1.0.1-&gt;kubernetes-&gt;chaostoolkit-kubernetes) (4.1.1)\nRequirement already satisfied: yarl&lt;2.0,&gt;=1.0 in /Users/grant/.venvs/vs-code/lib/python3.8/site-packages (from aiohttp&lt;4.0.0dev,&gt;=3.6.2; python_version &gt;= &quot;3.6&quot;-&gt;google-auth&gt;=1.0.1-&gt;kubernetes-&gt;chaostoolkit-kubernetes) (1.6.0)\nRequirement already satisfied: async-timeout&lt;4.0,&gt;=3.0 in /Users/grant/.venvs/vs-code/lib/python3.8/site-packages (from aiohttp&lt;4.0.0dev,&gt;=3.6.2; python_version &gt;= &quot;3.6&quot;-&gt;google-auth&gt;=1.0.1-&gt;kubernetes-&gt;chaostoolkit-kubernetes) (3.0.1)\nRequirement already satisfied: multidict&lt;5.0,&gt;=4.5 in /Users/grant/.venvs/vs-code/lib/python3.8/site-packages (from aiohttp&lt;4.0.0dev,&gt;=3.6.2; python_version &gt;= &quot;3.6&quot;-&gt;google-auth&gt;=1.0.1-&gt;kubernetes-&gt;chaostoolkit-kubernetes) (4.7.6)\nRequirement already satisfied: attrs&gt;=17.3.0 in /Users/grant/.venvs/vs-code/lib/python3.8/site-packages (from aiohttp&lt;4.0.0dev,&gt;=3.6.2; python_version &gt;= &quot;3.6&quot;-&gt;google-auth&gt;=1.0.1-&gt;kubernetes-&gt;chaostoolkit-kubernetes) (20.2.0)\nRequirement already satisfied: pyasn1&lt;0.5.0,&gt;=0.4.6 in /Users/grant/.venvs/vs-code/lib/python3.8/site-packages (from pyasn1-modules&gt;=0.2.1-&gt;google-auth&gt;=1.0.1-&gt;kubernetes-&gt;chaostoolkit-kubernetes) (0.4.8)\nInstalling collected packages: chaostoolkit-kubernetes\nSuccessfully installed chaostoolkit-kubernetes-0.23.0\nNote: you may need to restart the kernel to use updated packages.\n"
    }
   ],
   "source": [
    "%pip install chaostoolkit-kubernetes"
   ]
  },
  {
   "source": [
    "### Confirm the System can Survive POD Death\n",
    "\n",
    "Now you have the ```chaostoolkit``` installed along with the ```chaostoolkit-kubernetes``` extension you can use them to apply some disruption on your Kubernetes system.  Here you are going to run an experiment that will kill a POD. In this case, it will be a random POD, but if you have set up the simple system under test as described above there is only one POD, so that is the one to be killed.\n"
   ],
   "cell_type": "markdown",
   "metadata": {}
  },
  {
   "cell_type": "code",
   "execution_count": 24,
   "metadata": {
    "tags": []
   },
   "outputs": [
    {
     "output_type": "stream",
     "name": "stdout",
     "text": "\u001b[32m[2020-10-02 15:34:50 INFO]\u001b[39m Validating the experiment&#39;s syntax\n\u001b[32m[2020-10-02 15:34:50 INFO]\u001b[39m Experiment looks valid\n\u001b[32m[2020-10-02 15:34:50 INFO]\u001b[39m Running experiment: Do we remain available in face of pod going down?\n\u001b[32m[2020-10-02 15:34:50 INFO]\u001b[39m Steady-state strategy: default\n\u001b[32m[2020-10-02 15:34:50 INFO]\u001b[39m Rollbacks strategy: default\n\u001b[32m[2020-10-02 15:34:50 INFO]\u001b[39m Steady state hypothesis: Application is normal\n\u001b[32m[2020-10-02 15:34:50 INFO]\u001b[39m Probe: application-must-respond-normally\n\u001b[32m[2020-10-02 15:34:50 INFO]\u001b[39m Steady state hypothesis is met!\n\u001b[32m[2020-10-02 15:34:50 INFO]\u001b[39m Playing your experiment&#39;s method now...\n\u001b[32m[2020-10-02 15:34:50 INFO]\u001b[39m Action: terminate-pod\n\u001b[32m[2020-10-02 15:34:51 INFO]\u001b[39m Pausing after activity for 5s...\n\u001b[32m[2020-10-02 15:34:56 INFO]\u001b[39m Steady state hypothesis: Application is normal\n\u001b[32m[2020-10-02 15:34:56 INFO]\u001b[39m Probe: application-must-respond-normally\n\u001b[32m[2020-10-02 15:34:56 INFO]\u001b[39m Steady state hypothesis is met!\n\u001b[32m[2020-10-02 15:34:56 INFO]\u001b[39m Let&#39;s rollback...\n\u001b[32m[2020-10-02 15:34:56 INFO]\u001b[39m No declared rollbacks, let&#39;s move on.\n\u001b[32m[2020-10-02 15:34:56 INFO]\u001b[39m Experiment ended with status: completed\n"
    }
   ],
   "source": [
    "!chaos run kill-pod-experiment.json"
   ]
  },
  {
   "source": [],
   "cell_type": "markdown",
   "metadata": {}
  },
  {
   "source": [
    "## Viewing the impact\n",
    "\n",
    "You will observe from the Steady State Hypothesis step shown in the output log that the Hypothesis step shows the application responds normally before and after the terminte pod action step. This is because by default kubernetes will restart the POD when it is killed, so it's hard to observe the impact of killing the POD if you are using the simnple example above but if you use a command like the following:\n",
    "\n",
    "```\n",
    "watch -n 1 curl -I http://127.0.0.1:55982/\n",
    "```\n",
    "\n",
    "Where http://127.0.0.1:55982/ is the address given by the ```minikube service nginx``` command above."
   ],
   "cell_type": "markdown",
   "metadata": {}
  }
 ]
}